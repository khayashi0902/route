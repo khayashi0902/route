{
 "cells": [
  {
   "cell_type": "code",
   "execution_count": 2,
   "metadata": {},
   "outputs": [],
   "source": [
    "import numpy as np\n",
    "import random\n",
    "import os"
   ]
  },
  {
   "cell_type": "markdown",
   "metadata": {},
   "source": [
    "## flowファイル作成"
   ]
  },
  {
   "cell_type": "code",
   "execution_count": 6,
   "metadata": {},
   "outputs": [],
   "source": [
    "## パラメータの設定\n",
    "row_num = 2 # 横方向の信号機数\n",
    "col_num = 2 # 縦方向の信号機数\n",
    "flow_file_name = \"sim.flow.xml\" #ファイル名\n",
    "from_edge = [\"0_1to1_1\",\"0_2to1_2\",\"1_3to1_2\",\"2_3to2_2\",\"3_2to2_2\",\"3_1to2_1\",\"2_0to2_1\",\"1_0to1_1\"] #スタートのedge\n",
    "piriod = 2 #何秒ごとに生成するか\n",
    "n = 1 #一度に何台生成するか\n",
    "end = 14400 #何秒まで生成するか\n",
    "\n",
    "##flowファイル生成\n",
    "makeflow = open(flow_file_name,\"w\")\n",
    "print('<?xml version=\"1.0\" encoding=\"UTF-8\"?>', file=makeflow)\n",
    "print(\"<flows>\", file=makeflow)\n",
    "\n",
    "i = 0\n",
    "while id_num*piriod <= end:\n",
    "    print(f'<flow id=\"{id_num}\" from=\"{random.choice(from_edge)}\" begin=\"{i*piriod}\" number=\"{n}\" />',file=makeflow)\n",
    "    i += 1\n",
    "print('</flows>', file=makeflow)\n",
    "makeflow.close()"
   ]
  }
 ],
 "metadata": {
  "kernelspec": {
   "display_name": "Python 3",
   "language": "python",
   "name": "python3"
  },
  "language_info": {
   "codemirror_mode": {
    "name": "ipython",
    "version": 3
   },
   "file_extension": ".py",
   "mimetype": "text/x-python",
   "name": "python",
   "nbconvert_exporter": "python",
   "pygments_lexer": "ipython3",
   "version": "3.7.6"
  }
 },
 "nbformat": 4,
 "nbformat_minor": 4
}
