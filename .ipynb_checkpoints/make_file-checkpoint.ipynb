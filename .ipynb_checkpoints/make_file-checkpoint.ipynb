{
 "cells": [
  {
   "cell_type": "code",
   "execution_count": 1,
   "metadata": {},
   "outputs": [],
   "source": [
    "import numpy as np\n",
    "import random\n",
    "import os"
   ]
  },
  {
   "cell_type": "markdown",
   "metadata": {},
   "source": [
    "## flowファイル作成"
   ]
  },
  {
   "cell_type": "code",
   "execution_count": 6,
   "metadata": {},
   "outputs": [],
   "source": [
    "## パラメータの設定\n",
    "row_num = 2 # 横方向の信号機数\n",
    "col_num = 2 # 縦方向の信号機数\n",
    "flow_file_name = \"sim.flow3.xml\" #ファイル名\n",
    "from_edge = [\"0_1to1_1\",\"0_2to1_2\",\"1_3to1_2\",\"2_3to2_2\",\"3_2to2_2\",\"3_1to2_1\",\"2_0to2_1\",\"1_0to1_1\"] #スタートのedge\n",
    "piriod = 2 #何秒ごとに生成するか\n",
    "n = 1 #一度に何台生成するか\n",
    "begin = 0 #何秒から生成するか\n",
    "end = 14400 #何秒まで生成するか\n",
    "types = [\"bus\",\"truck\",\"passenger\",\"motorcycle\"] \n",
    "\n",
    "##flowファイル生成\n",
    "makeflow = open(flow_file_name,\"w\")\n",
    "print('<?xml version=\"1.0\" encoding=\"UTF-8\"?>', file=makeflow)\n",
    "print(\"<flows>\", file=makeflow)\n",
    "\n",
    "i = 0\n",
    "while i*piriod+begin <= end:\n",
    "    print(f'<flow id=\"{i}\" from=\"{random.choice(from_edge)}\" begin=\"{i*piriod+begin}\" number=\"{n}\" vClass=\"{random.choice(types)}\"/>',file=makeflow)\n",
    "    i += 1\n",
    "print('</flows>', file=makeflow)\n",
    "makeflow.close()"
   ]
  },
  {
   "cell_type": "markdown",
   "metadata": {},
   "source": [
    "## tripファイル作成"
   ]
  },
  {
   "cell_type": "code",
   "execution_count": 5,
   "metadata": {},
   "outputs": [],
   "source": [
    "## パラメータ設定\n",
    "trips_file_name = \"sim_random2.trips.xml\"\n",
    "from_edge = [\"0_1to1_1\",\"0_2to1_2\",\"1_3to1_2\",\"2_3to2_2\",\"3_2to2_2\",\"3_1to2_1\",\"2_0to2_1\",\"1_0to1_1\"] #スタートのedge\n",
    "to_edge = [\"1_1to0_1\",\"1_2to0_2\",\"1_2to1_3\",\"2_2to2_3\",\"2_2to3_2\",\"2_1to3_1\",\"2_1to2_0\",\"1_1to1_0\"] #ゴールのedge\n",
    "piriod = 2 #何秒ごとに生成するか\n",
    "begin = 0 #何秒から生成するか\n",
    "end = 14400 #何秒まで生成するか\n",
    "types = [\"bus\",\"truck\",\"passenger\",\"motorcycle\"] \n",
    "\n",
    "##tripsファイル作成\n",
    "maketrips = open(trips_file_name,\"w\")\n",
    "print('<?xml version=\"1.0\" encoding=\"UTF-8\"?>',file=maketrips)\n",
    "print('<routes xmlns:xsi=\"http://www.w3.org/2001/XMLSchema-instance\" xsi:noNamespaceSchemaLocation=\"http://sumo.dlr.de/xsd/routes_file.xsd\">',file=maketrips)\n",
    "\n",
    "for t in types:\n",
    "    print(f'<vType id=\"{t}\" vClass=\"{t}\"/>',file=maketrips)\n",
    "\n",
    "i = 0\n",
    "while i*piriod+begin <= end:\n",
    "    print(f'<trip id=\"{i}\" depart=\"{begin+i*piriod}\" from=\"{random.choice(from_edge)}\" to=\"{random.choice(to_edge)}\" type=\"{random.choice(types)}\"/>',file=maketrips)\n",
    "    i += 1\n",
    "print('</routes>',file=maketrips)\n",
    "maketrips.close()"
   ]
  },
  {
   "cell_type": "code",
   "execution_count": null,
   "metadata": {},
   "outputs": [],
   "source": []
  }
 ],
 "metadata": {
  "kernelspec": {
   "display_name": "Python 3",
   "language": "python",
   "name": "python3"
  },
  "language_info": {
   "codemirror_mode": {
    "name": "ipython",
    "version": 3
   },
   "file_extension": ".py",
   "mimetype": "text/x-python",
   "name": "python",
   "nbconvert_exporter": "python",
   "pygments_lexer": "ipython3",
   "version": "3.7.6"
  }
 },
 "nbformat": 4,
 "nbformat_minor": 4
}
